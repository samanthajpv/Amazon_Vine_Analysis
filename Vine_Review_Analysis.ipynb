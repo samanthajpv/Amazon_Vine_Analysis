{
  "nbformat": 4,
  "nbformat_minor": 0,
  "metadata": {
    "colab": {
      "name": "Vine_Review_Analysis.ipynb",
      "provenance": [],
      "authorship_tag": "ABX9TyNKiL46DMFnWblqN52xLWGE",
      "include_colab_link": true
    },
    "kernelspec": {
      "name": "python3",
      "display_name": "Python 3"
    },
    "language_info": {
      "name": "python"
    }
  },
  "cells": [
    {
      "cell_type": "markdown",
      "metadata": {
        "id": "view-in-github",
        "colab_type": "text"
      },
      "source": [
        "<a href=\"https://colab.research.google.com/github/samanthajpv/Amazon_Vine_Analysis/blob/main/Vine_Review_Analysis.ipynb\" target=\"_parent\"><img src=\"https://colab.research.google.com/assets/colab-badge.svg\" alt=\"Open In Colab\"/></a>"
      ]
    },
    {
      "cell_type": "code",
      "metadata": {
        "colab": {
          "base_uri": "https://localhost:8080/"
        },
        "id": "o5wTWg8t1gYL",
        "outputId": "0642cf42-568a-402b-b790-edabe5da60f5"
      },
      "source": [
        "import os\n",
        "# Find the latest version of spark 3.0 from http://www.apache.org/dist/spark/ and enter as the spark version\n",
        "spark_version = 'spark-3.0.3'\n",
        "os.environ['SPARK_VERSION']=spark_version\n",
        "\n",
        "# Install Spark and Java\n",
        "!apt-get update\n",
        "!apt-get install openjdk-11-jdk-headless -qq > /dev/null\n",
        "!wget -q http://www.apache.org/dist/spark/$SPARK_VERSION/$SPARK_VERSION-bin-hadoop2.7.tgz\n",
        "!tar xf $SPARK_VERSION-bin-hadoop2.7.tgz\n",
        "!pip install -q findspark\n",
        "\n",
        "# Set Environment Variables\n",
        "import os\n",
        "os.environ[\"JAVA_HOME\"] = \"/usr/lib/jvm/java-11-openjdk-amd64\"\n",
        "os.environ[\"SPARK_HOME\"] = f\"/content/{spark_version}-bin-hadoop2.7\"\n",
        "\n",
        "# Start a SparkSession\n",
        "import findspark\n",
        "findspark.init()"
      ],
      "execution_count": 1,
      "outputs": [
        {
          "output_type": "stream",
          "name": "stdout",
          "text": [
            "\r0% [Working]\r            \rGet:1 http://ppa.launchpad.net/c2d4u.team/c2d4u4.0+/ubuntu bionic InRelease [15.9 kB]\n",
            "\r0% [Connecting to archive.ubuntu.com (91.189.88.142)] [Connecting to security.u\r0% [Waiting for headers] [Connecting to security.ubuntu.com (91.189.91.39)] [Co\r                                                                               \rHit:2 http://archive.ubuntu.com/ubuntu bionic InRelease\n",
            "\r                                                                               \rGet:3 http://archive.ubuntu.com/ubuntu bionic-updates InRelease [88.7 kB]\n",
            "\r                                                                               \rHit:4 http://ppa.launchpad.net/cran/libgit2/ubuntu bionic InRelease\n",
            "\r0% [3 InRelease 38.8 kB/88.7 kB 44%] [Connecting to security.ubuntu.com (91.189\r0% [1 InRelease gpgv 15.9 kB] [3 InRelease 47.5 kB/88.7 kB 54%] [Connecting to \r                                                                               \rGet:5 https://cloud.r-project.org/bin/linux/ubuntu bionic-cran40/ InRelease [3,626 B]\n",
            "\r0% [1 InRelease gpgv 15.9 kB] [3 InRelease 54.7 kB/88.7 kB 62%] [Connecting to \r0% [1 InRelease gpgv 15.9 kB] [3 InRelease 54.7 kB/88.7 kB 62%] [Connecting to \r                                                                               \rHit:6 http://ppa.launchpad.net/deadsnakes/ppa/ubuntu bionic InRelease\n",
            "\r0% [1 InRelease gpgv 15.9 kB] [3 InRelease 88.7 kB/88.7 kB 100%] [Connecting to\r0% [1 InRelease gpgv 15.9 kB] [Connecting to security.ubuntu.com (91.189.91.39)\r                                                                               \rGet:7 http://archive.ubuntu.com/ubuntu bionic-backports InRelease [74.6 kB]\n",
            "\r0% [1 InRelease gpgv 15.9 kB] [7 InRelease 8,396 B/74.6 kB 11%] [Waiting for he\r0% [1 InRelease gpgv 15.9 kB] [Waiting for headers] [Waiting for headers] [Wait\r                                                                               \rGet:8 http://ppa.launchpad.net/graphics-drivers/ppa/ubuntu bionic InRelease [21.3 kB]\n",
            "\r0% [1 InRelease gpgv 15.9 kB] [Waiting for headers] [8 InRelease 2,572 B/21.3 k\r                                                                               \r0% [1 InRelease gpgv 15.9 kB] [Waiting for headers] [Waiting for headers]\r                                                                         \rGet:9 http://security.ubuntu.com/ubuntu bionic-security InRelease [88.7 kB]\n",
            "Ign:10 https://developer.download.nvidia.com/compute/cuda/repos/ubuntu1804/x86_64  InRelease\n",
            "Get:11 http://ppa.launchpad.net/c2d4u.team/c2d4u4.0+/ubuntu bionic/main Sources [1,802 kB]\n",
            "Ign:12 https://developer.download.nvidia.com/compute/machine-learning/repos/ubuntu1804/x86_64  InRelease\n",
            "Hit:13 https://developer.download.nvidia.com/compute/cuda/repos/ubuntu1804/x86_64  Release\n",
            "Hit:14 https://developer.download.nvidia.com/compute/machine-learning/repos/ubuntu1804/x86_64  Release\n",
            "Get:15 http://ppa.launchpad.net/c2d4u.team/c2d4u4.0+/ubuntu bionic/main amd64 Packages [922 kB]\n",
            "Get:16 https://cloud.r-project.org/bin/linux/ubuntu bionic-cran40/ Packages [68.5 kB]\n",
            "Get:17 http://archive.ubuntu.com/ubuntu bionic-updates/main amd64 Packages [2,800 kB]\n",
            "Get:18 http://archive.ubuntu.com/ubuntu bionic-updates/universe amd64 Packages [2,208 kB]\n",
            "Get:19 http://archive.ubuntu.com/ubuntu bionic-updates/restricted amd64 Packages [638 kB]\n",
            "Get:20 http://ppa.launchpad.net/graphics-drivers/ppa/ubuntu bionic/main amd64 Packages [42.0 kB]\n",
            "Get:21 http://security.ubuntu.com/ubuntu bionic-security/main amd64 Packages [2,365 kB]\n",
            "Get:24 http://security.ubuntu.com/ubuntu bionic-security/universe amd64 Packages [1,429 kB]\n",
            "Get:25 http://security.ubuntu.com/ubuntu bionic-security/restricted amd64 Packages [606 kB]\n",
            "Fetched 13.2 MB in 5s (2,820 kB/s)\n",
            "Reading package lists... Done\n"
          ]
        }
      ]
    },
    {
      "cell_type": "code",
      "metadata": {
        "id": "hxvYrOwF1qY0"
      },
      "source": [
        "# Create spark session\n",
        "from pyspark.sql import SparkSession\n",
        "spark = SparkSession.builder.appName(\"M16-Amazon-Challenge\").getOrCreate()"
      ],
      "execution_count": 2,
      "outputs": []
    },
    {
      "cell_type": "markdown",
      "metadata": {
        "id": "bs65sTJ_170o"
      },
      "source": [
        "###Load Amazon Data into Spark DataFrame"
      ]
    },
    {
      "cell_type": "code",
      "metadata": {
        "colab": {
          "base_uri": "https://localhost:8080/"
        },
        "id": "-VQ3RJiE1qeI",
        "outputId": "53c78dfe-2c8b-48c1-e1fe-d197bd081f25"
      },
      "source": [
        "from pyspark import SparkFiles\n",
        "url = \"https://s3.amazonaws.com/amazon-reviews-pds/tsv/amazon_reviews_us_Home_Entertainment_v1_00.tsv.gz\"\n",
        "spark.sparkContext.addFile(url)\n",
        "df = spark.read.option(\"encoding\", \"UTF-8\").csv(SparkFiles.get(\"amazon_reviews_us_Home_Entertainment_v1_00.tsv.gz\"), sep=\"\\t\", header=True, inferSchema=True)\n",
        "df.show()"
      ],
      "execution_count": 3,
      "outputs": [
        {
          "output_type": "stream",
          "name": "stdout",
          "text": [
            "+-----------+-----------+--------------+----------+--------------+--------------------+------------------+-----------+-------------+-----------+----+-----------------+--------------------+--------------------+-----------+\n",
            "|marketplace|customer_id|     review_id|product_id|product_parent|       product_title|  product_category|star_rating|helpful_votes|total_votes|vine|verified_purchase|     review_headline|         review_body|review_date|\n",
            "+-----------+-----------+--------------+----------+--------------+--------------------+------------------+-----------+-------------+-----------+----+-----------------+--------------------+--------------------+-----------+\n",
            "|         US|     179886| RY01SAV7HZ8QO|B00NTI0CQ2|     667358431|Aketek 1080P LED ...|Home Entertainment|          4|            0|          0|   N|                Y|good enough for m...|not the best pict...| 2015-08-31|\n",
            "|         US|   37293769|R1XX8SDGJ4MZ4L|B00BUCLVZU|     621695622|TiVo Mini with IR...|Home Entertainment|          5|            0|          0|   N|                N|Tell the Cable Co...|Not only do my Ti...| 2015-08-31|\n",
            "|         US|    8332121|R149Q3B5L33NN5|B00RBX9D5W|     143071132|Apple TV MD199LL/...|Home Entertainment|          5|            0|          0|   N|                Y|    Works perfectly!|Works perfectly! ...| 2015-08-31|\n",
            "|         US|   47054962|R2ZVD69Z6KPJ4O|B00UJ3IULO|     567816707|New Roku 3 6.5 Fo...|Home Entertainment|          1|            0|          2|   N|                Y|It doesn't work. ...|It doesn't work. ...| 2015-08-31|\n",
            "|         US|   23413911|R1DIKG2G33ZLNP|B0037UCTXG|     909557698|Generic DVI-I Dua...|Home Entertainment|          4|            0|          0|   N|                Y|         As pictured|I received the it...| 2015-08-31|\n",
            "|         US|    4417771|R3L6FGKAW0EYFI|B004N866SU|     414565179|Samsung 3D LED HD...|Home Entertainment|          1|            1|          1|   N|                N|Only lasts 3-4 ye...|I bought this TV ...| 2015-08-31|\n",
            "|         US|   47900707| RAO0QZH5VC6VI|B00JE6AOJS|     798450889|Jiake Wireless Bl...|Home Entertainment|          1|            0|          0|   N|                Y|            One Star|    Waste of $$$$$$$| 2015-08-31|\n",
            "|         US|   34112894|R25IK0UAHWNB22|B00COL0B7A|     777554234|3pcs/lot 3in1 3ft...|Home Entertainment|          3|            0|          0|   N|                Y|         Three Stars|Nice but all thre...| 2015-08-31|\n",
            "|         US|   20691979|R2A9IHKZMTMAL1|B00QHLSKOE|     885228855|Matricom G-Box Q²...|Home Entertainment|          5|            1|          2|   N|                Y|Yes...exactly wha...|Oh, yeah...doesn'...| 2015-08-31|\n",
            "|         US|   25983343| R5XVKTHL6SITI|B00UNL2MUW|     164482798|VIZIO S2920W-C0B ...|Home Entertainment|          5|            0|          0|   N|                Y|Fantastic sound. ...|Fantastic sound. ...| 2015-08-31|\n",
            "|         US|   35816068|R2QZZOSTDDY1IE|B00RIC9JB4|     184834831|Hitachi 49\" Class...|Home Entertainment|          3|            3|          6|   N|                Y|               risky|Great tv but Tv d...| 2015-08-31|\n",
            "|         US|   10628020|R38CUDCFPSNYTD|B00HPMCO6O|     444378461|Sony BDPS5200 3D ...|Home Entertainment|          5|            0|          0|   N|                Y|          Five Stars|EXCELLENT SERVICE...| 2015-08-31|\n",
            "|         US|    9059625| RM6ZR6NH052YH|B004QGXWS6|     770226547|Sylvania 7-Inch T...|Home Entertainment|          3|            1|          2|   N|                Y|They worked great...|They worked great...| 2015-08-31|\n",
            "|         US|    2681147| RUQK5N4WH8UN8|B00FO12XY6|     448806082|Roku HD Streaming...|Home Entertainment|          5|            0|          0|   N|                Y|          Five Stars|Smooth and worked...| 2015-08-31|\n",
            "|         US|   33449922|R21LWSBQWWJYZ3|B00BD7UVO4|     374427271|LG Electronics BP...|Home Entertainment|          5|            0|          0|   N|                Y|          Five Stars|     Works very well| 2015-08-31|\n",
            "|         US|   43069144| R8W5S53RQ2DF7|B00TRQPEYK|     614207013|LG Electronics LF...|Home Entertainment|          5|            0|          0|   N|                Y|               LG TV|The TV arrived qu...| 2015-08-31|\n",
            "|         US|   46780686|R3ENME3JQBWXZS|B005STXQG8|     689442799|SquareTrade TV Pr...|Home Entertainment|          5|            0|          1|   N|                Y|          Five Stars|well worth the mo...| 2015-08-31|\n",
            "|         US|   49037595|R3URL5K7DHHYK7|B00BEL11RA|     910670994|Cambridge - Azur ...|Home Entertainment|          5|            1|          1|   N|                Y|            Love it.|Great Blu-ray pla...| 2015-08-31|\n",
            "|         US|   27868511|R22YISZKS35YZX|B00QHLSKOE|     885228855|Matricom G-Box Q²...|Home Entertainment|          5|            2|          3|   N|                Y|If your on the fe...|Great media cente...| 2015-08-31|\n",
            "|         US|    3004043|R3IIOLWHWC297U|B00MWCJ8VQ|     946374680|Roku 3500XB Strea...|Home Entertainment|          5|            0|          0|   N|                Y|          Five Stars|       great product| 2015-08-31|\n",
            "+-----------+-----------+--------------+----------+--------------+--------------------+------------------+-----------+-------------+-----------+----+-----------------+--------------------+--------------------+-----------+\n",
            "only showing top 20 rows\n",
            "\n"
          ]
        }
      ]
    },
    {
      "cell_type": "code",
      "metadata": {
        "colab": {
          "base_uri": "https://localhost:8080/"
        },
        "id": "1LKvRFWs2NIU",
        "outputId": "08ac8567-d98c-436a-85ae-a34104a307e0"
      },
      "source": [
        "# Create the vine_table DataFrame\n",
        "vine_df = df.select([\"review_id\", \"star_rating\", \"helpful_votes\", \"total_votes\", \"vine\", \"verified_purchase\"])\n",
        "vine_df.show()"
      ],
      "execution_count": 4,
      "outputs": [
        {
          "output_type": "stream",
          "name": "stdout",
          "text": [
            "+--------------+-----------+-------------+-----------+----+-----------------+\n",
            "|     review_id|star_rating|helpful_votes|total_votes|vine|verified_purchase|\n",
            "+--------------+-----------+-------------+-----------+----+-----------------+\n",
            "| RY01SAV7HZ8QO|          4|            0|          0|   N|                Y|\n",
            "|R1XX8SDGJ4MZ4L|          5|            0|          0|   N|                N|\n",
            "|R149Q3B5L33NN5|          5|            0|          0|   N|                Y|\n",
            "|R2ZVD69Z6KPJ4O|          1|            0|          2|   N|                Y|\n",
            "|R1DIKG2G33ZLNP|          4|            0|          0|   N|                Y|\n",
            "|R3L6FGKAW0EYFI|          1|            1|          1|   N|                N|\n",
            "| RAO0QZH5VC6VI|          1|            0|          0|   N|                Y|\n",
            "|R25IK0UAHWNB22|          3|            0|          0|   N|                Y|\n",
            "|R2A9IHKZMTMAL1|          5|            1|          2|   N|                Y|\n",
            "| R5XVKTHL6SITI|          5|            0|          0|   N|                Y|\n",
            "|R2QZZOSTDDY1IE|          3|            3|          6|   N|                Y|\n",
            "|R38CUDCFPSNYTD|          5|            0|          0|   N|                Y|\n",
            "| RM6ZR6NH052YH|          3|            1|          2|   N|                Y|\n",
            "| RUQK5N4WH8UN8|          5|            0|          0|   N|                Y|\n",
            "|R21LWSBQWWJYZ3|          5|            0|          0|   N|                Y|\n",
            "| R8W5S53RQ2DF7|          5|            0|          0|   N|                Y|\n",
            "|R3ENME3JQBWXZS|          5|            0|          1|   N|                Y|\n",
            "|R3URL5K7DHHYK7|          5|            1|          1|   N|                Y|\n",
            "|R22YISZKS35YZX|          5|            2|          3|   N|                Y|\n",
            "|R3IIOLWHWC297U|          5|            0|          0|   N|                Y|\n",
            "+--------------+-----------+-------------+-----------+----+-----------------+\n",
            "only showing top 20 rows\n",
            "\n"
          ]
        }
      ]
    }
  ]
}